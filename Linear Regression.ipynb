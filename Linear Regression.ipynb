{
 "cells": [
  {
   "cell_type": "markdown",
   "metadata": {},
   "source": [
    "# Linear Regression\n",
    "\n",
    "Construct basic **linear regression** algorithm to fit the data distribution"
   ]
  },
  {
   "cell_type": "markdown",
   "metadata": {},
   "source": [
    "## 1. Data Preparation\n",
    "\n",
    "10 random data are set in a linear relationship\n",
    "\n",
    "The data is then converted to np.array format"
   ]
  },
  {
   "cell_type": "code",
   "execution_count": 2,
   "metadata": {},
   "outputs": [
    {
     "data": {
      "text/plain": [
       "<matplotlib.collections.PathCollection at 0x1a4067a5f10>"
      ]
     },
     "execution_count": 2,
     "metadata": {},
     "output_type": "execute_result"
    },
    {
     "data": {
      "image/png": "[encoded data removed]",
      "text/plain": [
       "<Figure size 432x288 with 1 Axes>"
      ]
     },
     "metadata": {
      "needs_background": "light"
     },
     "output_type": "display_data"
    }
   ],
   "source": [
    "#Import the required modules, numpy for calculation, and Matplotlib for drawing\n",
    "import numpy as np\n",
    "import matplotlib.pyplot as plt\n",
    "#This code is for jupyter Notebook only\n",
    "%matplotlib inline\n",
    "\n",
    "# define data, and change list to array\n",
    "x = [3,21,22,34,54,34,55,67,89,99]\n",
    "x = np.array(x)\n",
    "y = [1,10,14,34,44,36,22,67,79,90]\n",
    "y = np.array(y)\n",
    "\n",
    "#Show the effect of a scatter plot\n",
    "plt.scatter(x,y)"
   ]
  },
  {
   "cell_type": "markdown",
   "metadata": {},
   "source": [
    "## 2. Define Appropriate Functions\n",
    "\n",
    "### Model Function\n",
    "Linear regression model, wx + b\n",
    "\n",
    "### Loss Function\n",
    "Function of Mean Square Error\n",
    "\n",
    "### Optimization Function\n",
    "Gradient descent method for partial derivative of w and b"
   ]
  },
  {
   "cell_type": "code",
   "execution_count": 6,
   "metadata": {},
   "outputs": [],
   "source": [
    "#The basic linear regression model is wx+ b, and since this is a two-dimensional space, the model is ax+ b\n",
    "\n",
    "def model(a, b, x):\n",
    "    return a*x + b\n",
    "\n",
    "#The most commonly used loss function of linear regression model is the loss function of mean variance difference\n",
    "def loss_function(a, b, x, y):\n",
    "    num = len(x)\n",
    "    prediction=model(a,b,x)\n",
    "    return (0.5/num) * (np.square(prediction-y)).sum()\n",
    "\n",
    "#The optimization function mainly USES partial derivatives to update two parameters a and b\n",
    "def optimize(a,b,x,y):\n",
    "    num = len(x)\n",
    "    prediction = model(a,b,x)\n",
    "    #Update the values of A and B by finding the partial derivatives of the loss function on a and b\n",
    "    da = (1.0/num) * ((prediction -y)*x).sum()\n",
    "    db = (1.0/num) * ((prediction -y).sum())\n",
    "    a = a - Lr*da\n",
    "    b = b - Lr*db\n",
    "    return a, b\n",
    "\n",
    "#iterated function, return a and b\n",
    "def iterate(a,b,x,y,times):\n",
    "    for i in range(times):\n",
    "        a,b = optimize(a,b,x,y)\n",
    "    return a,b"
   ]
  },
  {
   "cell_type": "markdown",
   "metadata": {},
   "source": [
    "## 3. Start Iteration\n",
    "### 3.1 Initialize iterative optimization model"
   ]
  },
  {
   "cell_type": "code",
   "execution_count": 7,
   "metadata": {},
   "outputs": [
    {
     "name": "stdout",
     "output_type": "stream",
     "text": [
      "[0.72631262]\n",
      "[0.13005649]\n",
      "[0.76681331] [0.13054171] 58.63482438190306\n"
     ]
    },
    {
     "data": {
      "text/plain": [
       "[<matplotlib.lines.Line2D at 0x1a406820700>]"
      ]
     },
     "execution_count": 7,
     "metadata": {},
     "output_type": "execute_result"
    },
    {
     "data": {
      "image/png": "[encoded data removed]",
      "text/plain": [
       "<Figure size 432x288 with 1 Axes>"
      ]
     },
     "metadata": {
      "needs_background": "light"
     },
     "output_type": "display_data"
    }
   ],
   "source": [
    "#Initialize parameters and display\n",
    "a = np.random.rand(1)\n",
    "print(a)\n",
    "b = np.random.rand(1)\n",
    "print(b)\n",
    "Lr = 1e-4\n",
    "\n",
    "#For the first iteration, the parameter values, losses, and visualization after the iteration are displayed\n",
    "a,b = iterate(a,b,x,y,1)\n",
    "prediction=model(a,b,x)\n",
    "loss = loss_function(a, b, x, y)\n",
    "print(a,b,loss)\n",
    "plt.scatter(x,y)\n",
    "plt.plot(x,prediction)"
   ]
  },
  {
   "cell_type": "markdown",
   "metadata": {},
   "source": [
    "### 3.2 Second Iteration\n",
    "Parameter values, loss values, visualization effects are displayed"
   ]
  },
  {
   "cell_type": "code",
   "execution_count": 8,
   "metadata": {},
   "outputs": [
    {
     "name": "stdout",
     "output_type": "stream",
     "text": [
      "[0.81365287] [0.13099204] 49.06584274873724\n"
     ]
    },
    {
     "data": {
      "text/plain": [
       "[<matplotlib.lines.Line2D at 0x1a40682d520>]"
      ]
     },
     "execution_count": 8,
     "metadata": {},
     "output_type": "execute_result"
    },
    {
     "data": {
      "image/png": "[encoded data removed]",
      "text/plain": [
       "<Figure size 432x288 with 1 Axes>"
      ]
     },
     "metadata": {
      "needs_background": "light"
     },
     "output_type": "display_data"
    }
   ],
   "source": [
    "a,b = iterate(a,b,x,y,2)\n",
    "prediction=model(a,b,x)\n",
    "loss = loss_function(a, b, x, y)\n",
    "print(a,b,loss)\n",
    "plt.scatter(x,y)\n",
    "plt.plot(x,prediction)"
   ]
  },
  {
   "cell_type": "markdown",
   "metadata": {},
   "source": [
    "### 3.3 Third Iteration"
   ]
  },
  {
   "cell_type": "code",
   "execution_count": 9,
   "metadata": {},
   "outputs": [
    {
     "name": "stdout",
     "output_type": "stream",
     "text": [
      "[0.84184638] [0.1310271] 46.6279649537407\n"
     ]
    },
    {
     "data": {
      "text/plain": [
       "[<matplotlib.lines.Line2D at 0x1a4068cf160>]"
      ]
     },
     "execution_count": 9,
     "metadata": {},
     "output_type": "execute_result"
    },
    {
     "data": {
      "image/png": "[encoded data removed]",
      "text/plain": [
       "<Figure size 432x288 with 1 Axes>"
      ]
     },
     "metadata": {
      "needs_background": "light"
     },
     "output_type": "display_data"
    }
   ],
   "source": [
    "a,b = iterate(a,b,x,y,3)\n",
    "prediction=model(a,b,x)\n",
    "loss = loss_function(a, b, x, y)\n",
    "print(a,b,loss)\n",
    "plt.scatter(x,y)\n",
    "plt.plot(x,prediction)"
   ]
  },
  {
   "cell_type": "markdown",
   "metadata": {},
   "source": [
    "### 3.4 Fourth Iteration"
   ]
  },
  {
   "cell_type": "code",
   "execution_count": 10,
   "metadata": {},
   "outputs": [
    {
     "name": "stdout",
     "output_type": "stream",
     "text": [
      "[0.85231365] [0.13066093] 46.35774141655159\n"
     ]
    },
    {
     "data": {
      "text/plain": [
       "[<matplotlib.lines.Line2D at 0x1a406923790>]"
      ]
     },
     "execution_count": 10,
     "metadata": {},
     "output_type": "execute_result"
    },
    {
     "data": {
      "image/png": "[encoded data removed]",
      "text/plain": [
       "<Figure size 432x288 with 1 Axes>"
      ]
     },
     "metadata": {
      "needs_background": "light"
     },
     "output_type": "display_data"
    }
   ],
   "source": [
    "a,b = iterate(a,b,x,y,4)\n",
    "prediction=model(a,b,x)\n",
    "loss = loss_function(a, b, x, y)\n",
    "print(a,b,loss)\n",
    "plt.scatter(x,y)\n",
    "plt.plot(x,prediction)"
   ]
  },
  {
   "cell_type": "markdown",
   "metadata": {},
   "source": [
    "### 3.5 Fifth Iteration"
   ]
  },
  {
   "cell_type": "code",
   "execution_count": 11,
   "metadata": {},
   "outputs": [
    {
     "name": "stdout",
     "output_type": "stream",
     "text": [
      "[0.85484603] [0.13004264] 46.34330714370978\n"
     ]
    },
    {
     "data": {
      "text/plain": [
       "[<matplotlib.lines.Line2D at 0x1a406973d90>]"
      ]
     },
     "execution_count": 11,
     "metadata": {},
     "output_type": "execute_result"
    },
    {
     "data": {
      "image/png": "[encoded data removed]",
      "text/plain": [
       "<Figure size 432x288 with 1 Axes>"
      ]
     },
     "metadata": {
      "needs_background": "light"
     },
     "output_type": "display_data"
    }
   ],
   "source": [
    "a,b = iterate(a,b,x,y,5)\n",
    "prediction=model(a,b,x)\n",
    "loss = loss_function(a, b, x, y)\n",
    "print(a,b,loss)\n",
    "plt.scatter(x,y)\n",
    "plt.plot(x,prediction)"
   ]
  },
  {
   "cell_type": "markdown",
   "metadata": {},
   "source": [
    "### 3.6 10000th Iteration"
   ]
  },
  {
   "cell_type": "code",
   "execution_count": 12,
   "metadata": {},
   "outputs": [
    {
     "name": "stdout",
     "output_type": "stream",
     "text": [
      "[0.87280222] [-1.01965762] 45.012716358295684\n"
     ]
    },
    {
     "data": {
      "text/plain": [
       "[<matplotlib.lines.Line2D at 0x1a4069d5400>]"
      ]
     },
     "execution_count": 12,
     "metadata": {},
     "output_type": "execute_result"
    },
    {
     "data": {
      "image/png": "[encoded data removed]",
      "text/plain": [
       "<Figure size 432x288 with 1 Axes>"
      ]
     },
     "metadata": {
      "needs_background": "light"
     },
     "output_type": "display_data"
    }
   ],
   "source": [
    "a,b = iterate(a,b,x,y,10000)\n",
    "prediction=model(a,b,x)\n",
    "loss = loss_function(a, b, x, y)\n",
    "print(a,b,loss)\n",
    "plt.scatter(x,y)\n",
    "plt.plot(x,prediction)"
   ]
  },
  {
   "cell_type": "code",
   "execution_count": null,
   "metadata": {},
   "outputs": [],
   "source": []
  }
 ],
 "metadata": {
  "kernelspec": {
   "display_name": "Python 3",
   "language": "python",
   "name": "python3"
  },
  "language_info": {
   "codemirror_mode": {
    "name": "ipython",
    "version": 3
   },
   "file_extension": ".py",
   "mimetype": "text/x-python",
   "name": "python",
   "nbconvert_exporter": "python",
   "pygments_lexer": "ipython3",
   "version": "3.8.5"
  }
 },
 "nbformat": 4,
 "nbformat_minor": 4
}
